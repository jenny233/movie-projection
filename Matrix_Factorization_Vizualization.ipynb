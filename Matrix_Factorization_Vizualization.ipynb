{
 "cells": [
  {
   "cell_type": "code",
   "execution_count": 1,
   "metadata": {
    "collapsed": true
   },
   "outputs": [],
   "source": [
    "import matplotlib.pyplot as plt\n",
    "import numpy as np\n",
    "from sklearn.model_selection import KFold"
   ]
  },
  {
   "cell_type": "markdown",
   "metadata": {},
   "source": [
    "## Load data"
   ]
  },
  {
   "cell_type": "code",
   "execution_count": 9,
   "metadata": {
    "collapsed": true
   },
   "outputs": [],
   "source": [
    "Y_total = np.loadtxt('data/data.txt').astype(int)\n",
    "Y_train = np.loadtxt('data/train.txt').astype(int)\n",
    "Y_test = np.loadtxt('data/test.txt').astype(int)\n",
    "movies = np.loadtxt('data/movies.txt', dtype='str', delimiter='\\t')\n",
    "movie_names = dict([(int(movie[0]), movie[1]) for movie in movies])\n",
    "movie_labels = movies[:,2:].astype('float')\n",
    "M = max(max(Y_train[:,0]), max(Y_test[:,0])).astype(int) # users\n",
    "N = max(max(Y_train[:,1]), max(Y_test[:,1])).astype(int) # movies"
   ]
  },
  {
   "cell_type": "code",
   "execution_count": 24,
   "metadata": {
    "collapsed": true
   },
   "outputs": [],
   "source": [
    "def get_err(U, V, Y, reg=0.0, use_bias=False, a=None, b=None):\n",
    "    \"\"\"\n",
    "    Takes as input a matrix Y of triples (i, j, Y_ij) where i is the index of a user,\n",
    "    j is the index of a movie, and Y_ij is user i's rating of movie j and\n",
    "    user/movie matrices U and V. a is the vector of biases for each user and\n",
    "    b is the vector of biases for each movie.\n",
    "\n",
    "    Returns the mean regularized squared-error of predictions made by\n",
    "    estimating Y_{ij} as the dot product of the ith row of U and the jth column of V^T.\n",
    "    \"\"\"\n",
    "    reg_term = reg * (np.linalg.norm(U)**2 + np.linalg.norm(V)**2) / 2\n",
    "    err = 0 \n",
    "    for y in Y:\n",
    "        i = y[0] - 1\n",
    "        j = y[1] - 1\n",
    "        Y_ij = y[2]\n",
    "        if use_bias:\n",
    "            err += (Y_ij - np.dot(U[i], V[j]) - a[i] - b[j])**2\n",
    "        else:\n",
    "            err += (Y_ij - np.dot(U[i], V[j]))**2\n",
    "    return (reg_term + (err / 2) )/ float(len(Y))"
   ]
  },
  {
   "cell_type": "markdown",
   "metadata": {},
   "source": [
    "## Method 1 function definitions & training"
   ]
  },
  {
   "cell_type": "code",
   "execution_count": 39,
   "metadata": {},
   "outputs": [],
   "source": [
    "def grad_U(Ui, Yij, Vj, reg, eta, use_bias=False, ai=None, bj=None):\n",
    "    \"\"\"\n",
    "    Takes as input Ui (the ith row of U), a training point Yij, the column\n",
    "    vector Vj (jth column of V^T), reg (the regularization parameter lambda),\n",
    "    and eta (the learning rate).\n",
    "\n",
    "    Returns the gradient of the regularized loss function with\n",
    "    respect to Ui multiplied by eta.\n",
    "    \"\"\"\n",
    "    if use_bias:\n",
    "        grad = - Vj * (Yij - np.dot(Ui, Vj) - ai - bj)\n",
    "    else:\n",
    "        grad = - Vj * (Yij - np.dot(Ui, Vj))\n",
    "    return (Ui * reg + grad) * eta\n",
    "\n",
    "def grad_V(Vj, Yij, Ui, reg, eta, use_bias=False, ai=None, bj=None):\n",
    "    \"\"\"\n",
    "    Takes as input the column vector Vj (jth column of V^T), a training point Yij,\n",
    "    Ui (the ith row of U), reg (the regularization parameter lambda),\n",
    "    and eta (the learning rate).\n",
    "\n",
    "    Returns the gradient of the regularized loss function with\n",
    "    respect to Vj multiplied by eta.\n",
    "    \"\"\"\n",
    "    if use_bias:\n",
    "        grad = - Ui * (Yij - np.dot(Ui, Vj) - ai - bj)\n",
    "    else:\n",
    "        grad = - Ui * (Yij - np.dot(Ui, Vj))\n",
    "    return (Vj * reg + grad) * eta\n",
    "\n",
    "def train_model(M, N, K, eta, reg, Y, eps=0.0001, max_epochs=300):\n",
    "    \"\"\"\n",
    "    Given a training data matrix Y containing rows (i, j, Y_ij)\n",
    "    where Y_ij is user i's rating on movie j, learns an\n",
    "    M x K matrix U and N x K matrix V such that rating Y_ij is approximated\n",
    "    by (UV^T)_ij.\n",
    "\n",
    "    Uses a learning rate of <eta> and regularization of <reg>. Stops after\n",
    "    <max_epochs> epochs, or once the magnitude of the decrease in regularized\n",
    "    MSE between epochs is smaller than a fraction <eps> of the decrease in\n",
    "    MSE after the first epoch.\n",
    "\n",
    "    Returns a tuple (U, V, err) consisting of U, V, and the unregularized MSE\n",
    "    of the model.\n",
    "    \"\"\"\n",
    "    U = np.random.rand(M, K) - 0.5\n",
    "    V = np.random.rand(N, K) - 0.5\n",
    "\n",
    "    for epoch in range(max_epochs):\n",
    "        \n",
    "        curr_loss = get_err(U, V, Y, reg)\n",
    "\n",
    "        rand_perm = np.random.permutation(list(range(len(Y))))\n",
    "        for index in rand_perm:\n",
    "            i = Y[index][0] - 1\n",
    "            j = Y[index][1] - 1\n",
    "            Y_ij = Y[index][2]\n",
    "            Ui = U[i]\n",
    "            Vj = V[j]\n",
    "            U[i] -= grad_U(Ui, Y_ij, Vj, reg, eta)\n",
    "            V[j] -= grad_V(Vj, Y_ij, Ui, reg, eta)\n",
    "\n",
    "\n",
    "        if epoch == 1:\n",
    "            first_dec = curr_loss - get_err(U, V, Y, reg)\n",
    "\n",
    "        elif epoch > 1:\n",
    "            dec = curr_loss - get_err(U, V, Y, reg)\n",
    "\n",
    "            if dec <= eps * first_dec:\n",
    "                break\n",
    "    \n",
    "    return (U, V, get_err(U, V, Y))\n",
    "    "
   ]
  },
  {
   "cell_type": "code",
   "execution_count": 36,
   "metadata": {},
   "outputs": [
    {
     "name": "stdout",
     "output_type": "stream",
     "text": [
      "split finished\n",
      "split finished\n",
      "split finished\n",
      "[[(0.02, 0.01), 0.79922974375104905]]\n",
      "(0.02, 0.01)\n",
      "Test error: 0.601242217274\n"
     ]
    }
   ],
   "source": [
    "# Find optimal hyperparameters for learning rate and regularization using cross validation\n",
    "etas = [0.02, 0.05, 0.08]\n",
    "regs = [0.0, 0.01, 0.1]\n",
    "\n",
    "param_grid = []\n",
    "for eta in etas:\n",
    "    for reg in regs:\n",
    "        param_grid.append((eta, reg))\n",
    "kf = KFold(n_splits = 3)\n",
    "\n",
    "errors = []\n",
    "for train_index, test_index in kf.split(Y_train):\n",
    "    Y_tr, Y_val = Y_train[train_index], Y_train[test_index]\n",
    "    for eta, reg in param_grid:\n",
    "        U, V, train_err = train_model(M,N,20,eta,reg,Y_tr)\n",
    "        errors.append([(eta, reg), get_err(U, V, Y_val)])\n",
    "    print('split finished')\n",
    "\n",
    "\n",
    "results = []\n",
    "for params in param_grid:\n",
    "    avg = np.mean([err[1] for err in errors if err[0] == params])\n",
    "    results.append([params, avg])\n",
    "    \n",
    "results = sorted(results, key = lambda x: x[1])\n",
    "best_params = results[0][0]\n",
    "print(results)\n",
    "print(best_params)\n",
    "\n",
    "U_method1, V_method1, train_err = train_model(M,N,20,best_params[0],best_params[1],Y_train)\n",
    "print('Test error:', get_err(U_method1, V_method1, Y_test))\n",
    "U_method1, V_method1, err_method1 = train_model(M,N,20,best_params[0],best_params[1],Y_total)\n"
   ]
  },
  {
   "cell_type": "markdown",
   "metadata": {},
   "source": [
    "## Method 2 function definitions & training"
   ]
  },
  {
   "cell_type": "code",
   "execution_count": null,
   "metadata": {
    "collapsed": true
   },
   "outputs": [],
   "source": [
    "def grad_a(Ui, Yij, Vj, reg, eta, ai, bj):\n",
    "    grad = -(Yij - np.dot(Ui, Vj) - ai - bj)\n",
    "    return (reg * ai + grad) * eta\n",
    "\n",
    "def grad_b(Ui, Yij, Vj, reg, eta, ai, bj):\n",
    "    grad = -(Yij - np.dot(Ui, Vj) - ai - bj)\n",
    "    return (reg * bj + grad) * eta\n",
    "\n",
    "def train_model_use_bias(M, N, K, eta, reg, Y, eps=0.0001, max_epochs=300):\n",
    "    U = np.random.rand(M, K) - 0.5\n",
    "    V = np.random.rand(N, K) - 0.5\n",
    "    a = np.random.rand(M,) - 0.5\n",
    "    b = np.random.rand(N,) - 0.5\n",
    "\n",
    "    for epoch in range(max_epochs):\n",
    "        curr_loss = get_err(U, V, Y, reg, use_bias=True, a=a, b=b)\n",
    "\n",
    "        rand_perm = np.random.permutation(list(range(len(Y))))\n",
    "        for index in rand_perm:\n",
    "            i = Y[index][0] - 1\n",
    "            j = Y[index][1] - 1\n",
    "            Y_ij = Y[index][2]\n",
    "            Ui = U[i]\n",
    "            Vj = V[j]\n",
    "            ai = a[i]\n",
    "            bj = b[j]\n",
    "            U[i] -= grad_U(Ui, Y_ij, Vj, reg, eta, use_bias=True, ai=ai, bj=bj)\n",
    "            V[j] -= grad_V(Vj, Y_ij, Ui, reg, eta, use_bias=True, ai=ai, bj=bj)\n",
    "            a[i] -= grad_a(Ui, Y_ij, Vj, reg, eta, ai, bj)\n",
    "            b[j] -= grad_b(Ui, Y_ij, Vj, reg, eta, ai, bj)\n",
    "\n",
    "\n",
    "        if epoch == 1:\n",
    "            first_dec = curr_loss - get_err(U, V, Y, reg, use_bias=True, a=a, b=b)\n",
    "\n",
    "        elif epoch > 1:\n",
    "            dec = curr_loss - get_err(U, V, Y, reg, use_bias=True, a=a, b=b)\n",
    "\n",
    "            if dec <= eps * first_dec:\n",
    "                break\n",
    "    \n",
    "    return (U, V, a, b, get_err(U, V, Y, reg, use_bias=True, a=a, b=b))"
   ]
  },
  {
   "cell_type": "code",
   "execution_count": null,
   "metadata": {},
   "outputs": [],
   "source": [
    "etas = [0.02, 0.05, 0.08]\n",
    "regs = [0.0, 0.01, 0.1]\n",
    "\n",
    "param_grid = []\n",
    "for eta in etas:\n",
    "    for reg in regs:\n",
    "        param_grid.append((eta, reg))\n",
    "kf = KFold(n_splits = 3)\n",
    "\n",
    "errors = []\n",
    "for train_index, test_index in kf.split(Y_train):\n",
    "    Y_tr, Y_val = Y_train[train_index], Y_train[test_index]\n",
    "    for eta, reg in param_grid:\n",
    "        U, V, a, b, train_err = train_model_use_bias(M,N,20,eta,reg,Y_tr)\n",
    "        errors.append([(eta, reg), get_err(U, V, Y_val, use_bias=True, a=a, b=b)])\n",
    "    print('split finished')\n",
    "    \n",
    "results = []\n",
    "for params in param_grid:\n",
    "    avg = np.mean([err[1] for err in errors if err[0] == params])\n",
    "    results.append([params, avg])\n",
    "    \n",
    "results = sorted(results, key = lambda x: x[1])\n",
    "best_params = results[0][0]\n",
    "print(results)\n",
    "print(best_params)\n",
    "\n",
    "U_method2, V_method2, a, b, train_err = train_model_use_bias(M,N,20,best_params[0],best_params[1],Y_train)\n",
    "print('Test error:', get_err(U_method1, V_method1, Y_test, use_bias=True, a=a, b=b))\n",
    "U_method2, V_method2, a, b, err_method2 = train_model_use_bias(M,N,20,best_params[0],best_params[1],Y_total)\n"
   ]
  },
  {
   "cell_type": "markdown",
   "metadata": {},
   "source": [
    "## Visualize projections"
   ]
  },
  {
   "cell_type": "code",
   "execution_count": null,
   "metadata": {
    "collapsed": true
   },
   "outputs": [],
   "source": [
    "def plot_projections(U_in, V_in, U_indices=False, V_indices=False):\n",
    "    U = np.zeros(U_in.shape)\n",
    "    V = np.zeros(V_in.shape)\n",
    "    \n",
    "    # Normalize\n",
    "    for i in range(len(V[0])):\n",
    "        avg = V_in[:,i].mean()\n",
    "        std = V_in[:,i].std()\n",
    "        V[:,i] = (V_in[:,i] - avg) / std\n",
    "        U[:,i] = (U_in[:,i] - avg) / std\n",
    "\n",
    "\n",
    "    A, Sigma, B = np.linalg.svd(V.T)\n",
    "    Vproj = np.dot(A[:,:2].T, V.T)\n",
    "    Uproj = np.dot(A[:,:2].T, U.T)\n",
    "    \n",
    "\n",
    "        \n",
    "    Vproj_new = [[],[]]\n",
    "    Uproj_new = [[],[]]\n",
    "    V_names = []\n",
    "    \n",
    "    for i in range(2):\n",
    "        if type(V_indices) is not bool:\n",
    "            for idx in V_indices:\n",
    "                Vproj_new[i].append(Vproj[i][idx])\n",
    "\n",
    "        if type(U_indices) is not bool:\n",
    "            for idx in U_indices:\n",
    "                Uproj_new[i].append(Uproj[i][idx])\n",
    "        \n",
    "\n",
    "    if type(V_indices) is not bool:\n",
    "#         plt.scatter(Vproj_new[0], Vproj_new[1])\n",
    "        \n",
    "        for i in range(len(V_indices)):\n",
    "            plt.scatter(Vproj_new[0][i], Vproj_new[1][i], label=movie_names[V_indices[i]+1])\n",
    "#             plt.annotate(movie_names[V_indices[i]+1], (Vproj_new[0][i], Vproj_new[1][i]))\n",
    "            plt.legend(loc='upper left', bbox_to_anchor=(1,1))\n",
    "    if type(U_indices) is not bool:\n",
    "        plt.scatter(Uproj_new[0], Uproj_new[1])\n",
    "    plt.show()"
   ]
  },
  {
   "cell_type": "markdown",
   "metadata": {},
   "source": [
    "## Visualize Method 1"
   ]
  },
  {
   "cell_type": "code",
   "execution_count": 6,
   "metadata": {},
   "outputs": [
    {
     "data": {
      "image/png": "[encoded data removed]",
      "text/plain": [
       "<matplotlib.figure.Figure at 0x10aa6ba20>"
      ]
     },
     "metadata": {},
     "output_type": "display_data"
    }
   ],
   "source": [
    "plot_projections(U_method1, V_method1)\n",
    "\n",
    "movie_ids, counts = np.unique(Y_total[:,1], return_counts=True)\n",
    "popularities = sorted(zip(movie_ids, counts),key = lambda x: x[1])\n",
    "top_ids, top_counts = zip(*popularities[-10:])\n",
    "plot_projections(U_method1, V_method1, False, np.array(top_ids, dtype='int') - 1)"
   ]
  },
  {
   "cell_type": "markdown",
   "metadata": {},
   "source": [
    "## Visualize Method 2"
   ]
  },
  {
   "cell_type": "code",
   "execution_count": null,
   "metadata": {
    "collapsed": true
   },
   "outputs": [],
   "source": [
    "plot_projections(U_method2, V_method2)\n",
    "\n",
    "movie_ids, counts = np.unique(Y_total[:,1], return_counts=True)\n",
    "popularities = sorted(zip(movie_ids, counts),key = lambda x: x[1])\n",
    "top_ids, top_counts = zip(*popularities[-10:])\n",
    "plot_projections(U_method1, V_method1, False, np.array(top_ids, dtype='int') - 1)"
   ]
  }
 ],
 "metadata": {
  "kernelspec": {
   "display_name": "Python 3",
   "language": "python",
   "name": "python3"
  },
  "language_info": {
   "codemirror_mode": {
    "name": "ipython",
    "version": 3
   },
   "file_extension": ".py",
   "mimetype": "text/x-python",
   "name": "python",
   "nbconvert_exporter": "python",
   "pygments_lexer": "ipython3",
   "version": "3.6.2"
  }
 },
 "nbformat": 4,
 "nbformat_minor": 2
}
