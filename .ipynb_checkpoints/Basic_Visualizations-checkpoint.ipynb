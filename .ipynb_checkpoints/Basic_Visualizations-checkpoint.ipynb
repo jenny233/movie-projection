{
 "cells": [
  {
   "cell_type": "code",
   "execution_count": 26,
   "metadata": {
    "collapsed": true
   },
   "outputs": [],
   "source": [
    "import numpy as np\n",
    "import heapq\n",
    "import matplotlib.pyplot as plt\n",
    "%matplotlib inline"
   ]
  },
  {
   "cell_type": "code",
   "execution_count": 23,
   "metadata": {},
   "outputs": [
    {
     "name": "stdout",
     "output_type": "stream",
     "text": [
      "Finished. M = 943  N = 1682\n"
     ]
    }
   ],
   "source": [
    "user_data = np.loadtxt('data/data.txt').astype(int)\n",
    "movie_desc = np.loadtxt('data/movies.txt', dtype='str', delimiter='\\t')\n",
    "movie_names = dict([(int(line[0]), line[1]) for line in movie_desc])\n",
    "movie_labels = movie_desc[:,2:].astype('float')\n",
    "M = max(user_data[:,0]).astype(int) # users\n",
    "N = max(user_data[:,1]).astype(int) # movies\n",
    "print(\"Finished. M =\", M, \" N =\", N)"
   ]
  },
  {
   "cell_type": "code",
   "execution_count": 24,
   "metadata": {},
   "outputs": [],
   "source": [
    "# Initialize the ratings array\n",
    "Y = np.ndarray((M, N))\n",
    "\n",
    "# Process ratings for every movie\n",
    "for line in user_data:\n",
    "    user_id = line[0] \n",
    "    movie_id = line[1]\n",
    "    rating = line[2]\n",
    "    Y[user_id-1][movie_id-1] = rating"
   ]
  },
  {
   "cell_type": "markdown",
   "metadata": {},
   "source": [
    "## Visualize all ratings"
   ]
  },
  {
   "cell_type": "code",
   "execution_count": 32,
   "metadata": {},
   "outputs": [
    {
     "data": {
      "image/png": "[encoded data removed]",
      "text/plain": [
       "<matplotlib.figure.Figure at 0x10fd33550>"
      ]
     },
     "metadata": {},
     "output_type": "display_data"
    }
   ],
   "source": [
    "# All Ratings\n",
    "all_ratings = user_data[:,2]\n",
    "plt.hist(all_ratings, bins=5, range=(0.5, 5.5))\n",
    "plt.title('All Ratings')\n",
    "plt.xlabel('Rating score')\n",
    "plt.ylabel('Frequency')\n",
    "plt.show()"
   ]
  },
  {
   "cell_type": "markdown",
   "metadata": {},
   "source": [
    "## Visualize 10 most popular"
   ]
  },
  {
   "cell_type": "code",
   "execution_count": 33,
   "metadata": {},
   "outputs": [
    {
     "data": {
      "image/png": "[encoded data removed]",
      "text/plain": [
       "<matplotlib.figure.Figure at 0x1111551d0>"
      ]
     },
     "metadata": {},
     "output_type": "display_data"
    }
   ],
   "source": [
    "# Top 10 popular\n",
    "movie_ids, counts = np.unique(user_data[:,1], return_counts=True)\n",
    "popularities = sorted(zip(movie_ids, counts),key = lambda x: x[1])\n",
    "top_ids, top_counts = zip(*popularities[-10:])\n",
    "top10ratings = [line[2] for line in user_data if line[1] in top_ids]\n",
    "plt.hist(top10ratings, bins=5, range=(0.5, 5.5))\n",
    "plt.title('Ratings of 10 most popular movies')\n",
    "plt.xlabel('Rating score')\n",
    "plt.ylabel('Frequency')\n",
    "plt.show()"
   ]
  },
  {
   "cell_type": "markdown",
   "metadata": {},
   "source": [
    "## Visualize 10 highest rated"
   ]
  },
  {
   "cell_type": "code",
   "execution_count": 83,
   "metadata": {},
   "outputs": [
    {
     "name": "stdout",
     "output_type": "stream",
     "text": [
      "943\n",
      "452\n",
      "3.87831858407\n"
     ]
    }
   ],
   "source": [
    "print(len(Y[:, 0]))\n",
    "column = Y[:, 0]\n",
    "# non_zero_Y0 = [Y[i] for i in np.nonzero(Y[:, 0])]\n",
    "# print(non_zero_Y0[0])\n",
    "print(len(column[np.nonzero(column)]))\n",
    "print(np.mean(column[np.nonzero(column)]))"
   ]
  },
  {
   "cell_type": "code",
   "execution_count": 85,
   "metadata": {},
   "outputs": [
    {
     "name": "stdout",
     "output_type": "stream",
     "text": [
      "['\"Great Day in Harlem, A (1994)\"', 'They Made Me a Criminal (1939)', 'Prefontaine (1997)', 'Marlene Dietrich: Shadow and Light (1996) ', 'Star Kid (1997)', '\"Saint of Fort Washington, The (1993)\"', 'Santa with Muscles (1996)', 'Aiqing wansui (1994)', \"Someone Else's America (1995)\", 'Entertaining Angels: The Dorothy Day Story (1996)']\n",
      "(5.0, 5.0, 5.0, 5.0, 5.0, 5.0, 5.0, 5.0, 5.0, 5.0)\n"
     ]
    },
    {
     "data": {
      "image/png": "[encoded data removed]",
      "text/plain": [
       "<matplotlib.figure.Figure at 0x110044f98>"
      ]
     },
     "metadata": {},
     "output_type": "display_data"
    }
   ],
   "source": [
    "# Top 10 highest rated\n",
    "avg_ratings = []\n",
    "for j in range(N):\n",
    "    movie_ratings = Y[:, j]\n",
    "    avg_rating = np.mean(movie_ratings[np.nonzero(movie_ratings)])\n",
    "    avg_ratings.append(avg_rating)\n",
    "avg_ratings = np.array(avg_ratings)\n",
    "popularities = sorted(zip(movie_ids, avg_ratings),key = lambda x: x[1], reverse=True)\n",
    "top_ids, top_ratings = zip(*popularities[:10])\n",
    "# best_indices = heapq.nlargest(10, range(N), avg_ratings.take)\n",
    "highest10ratings = [line[2] for line in user_data if line[1] in top_ids]\n",
    "# print(avg_ratings)\n",
    "movie_names = [line[1] for line in movie_desc if int(line[0]) in top_ids]\n",
    "print(movie_names)\n",
    "print(top_ratings)\n",
    "\n",
    "plt.hist(highest10ratings, bins=5, range=(0.5, 5.5))\n",
    "plt.title('Ratings of 10 highest rated movies')\n",
    "plt.xlabel('Rating score')\n",
    "plt.ylabel('Frequency')\n",
    "plt.show()"
   ]
  },
  {
   "cell_type": "code",
   "execution_count": 49,
   "metadata": {},
   "outputs": [
    {
     "name": "stdout",
     "output_type": "stream",
     "text": [
      "1\n"
     ]
    }
   ],
   "source": [
    "print(n_reviews)"
   ]
  },
  {
   "cell_type": "markdown",
   "metadata": {},
   "source": [
    "## Visualize three genres (action, comedy, and fantasy)"
   ]
  },
  {
   "cell_type": "code",
   "execution_count": 40,
   "metadata": {},
   "outputs": [
    {
     "name": "stdout",
     "output_type": "stream",
     "text": [
      "action: (251,) comedy: (473,) fantasy: (11,)\n"
     ]
    }
   ],
   "source": [
    "# Visualize ratings of a genre\n",
    "action = []\n",
    "comedy = []\n",
    "fantasy = []\n",
    "# Each line is id, title, genre\n",
    "for line in movie_desc:\n",
    "    if line[3] == \"1\":\n",
    "        action.append(line[0])\n",
    "    elif line[7] == \"1\":\n",
    "        comedy.append(line[0])\n",
    "    elif line[11] == \"1\":\n",
    "        fantasy.append(line[0])\n",
    "action = np.array(action).astype('int')\n",
    "comedy = np.array(comedy).astype('int')\n",
    "fantasy = np.array(fantasy).astype('int')\n",
    "print(\"action:\", action.shape, \"comedy:\", comedy.shape, \"fantasy:\", fantasy.shape)"
   ]
  },
  {
   "cell_type": "code",
   "execution_count": 46,
   "metadata": {},
   "outputs": [
    {
     "data": {
      "image/png": "[encoded data removed]",
      "text/plain": [
       "<matplotlib.figure.Figure at 0x11084ee10>"
      ]
     },
     "metadata": {},
     "output_type": "display_data"
    },
    {
     "data": {
      "image/png": "[encoded data removed]",
      "text/plain": [
       "<matplotlib.figure.Figure at 0x10fe74e80>"
      ]
     },
     "metadata": {},
     "output_type": "display_data"
    },
    {
     "data": {
      "image/png": "[encoded data removed]",
      "text/plain": [
       "<matplotlib.figure.Figure at 0x10fe8d320>"
      ]
     },
     "metadata": {},
     "output_type": "display_data"
    }
   ],
   "source": [
    "def visualize_genre_ratings(genre, genre_name):\n",
    "    genre_ratings = [line[2] for line in user_data if line[1] in genre]\n",
    "    plt.figure()\n",
    "    plt.hist(genre_ratings, bins=5, range=(0.5, 5.5))\n",
    "    plt.title('Ratings of movies in ' + str(genre_name))\n",
    "    plt.xlabel('Rating score')\n",
    "    plt.ylabel('Frequency')\n",
    "visualize_genre_ratings(action, 'action')\n",
    "visualize_genre_ratings(comedy, 'comedy')\n",
    "visualize_genre_ratings(fantasy, 'fantasy')"
   ]
  },
  {
   "cell_type": "code",
   "execution_count": 47,
   "metadata": {},
   "outputs": [
    {
     "name": "stdout",
     "output_type": "stream",
     "text": [
      "[0 1 2 3 4 5 6 7 8 9]\n"
     ]
    }
   ],
   "source": []
  },
  {
   "cell_type": "code",
   "execution_count": null,
   "metadata": {
    "collapsed": true
   },
   "outputs": [],
   "source": []
  }
 ],
 "metadata": {
  "kernelspec": {
   "display_name": "Python 3",
   "language": "python",
   "name": "python3"
  },
  "language_info": {
   "codemirror_mode": {
    "name": "ipython",
    "version": 3
   },
   "file_extension": ".py",
   "mimetype": "text/x-python",
   "name": "python",
   "nbconvert_exporter": "python",
   "pygments_lexer": "ipython3",
   "version": "3.6.2"
  }
 },
 "nbformat": 4,
 "nbformat_minor": 2
}
